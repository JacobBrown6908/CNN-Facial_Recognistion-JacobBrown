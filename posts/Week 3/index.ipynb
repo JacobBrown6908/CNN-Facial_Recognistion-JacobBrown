{
  "cells": [
    {
      "cell_type": "raw",
      "metadata": {},
      "source": [
        "---\n",
        "title: \"Week 2\"\n",
        "author: \"Jacob Brown\"\n",
        "date: \"2025-01-22\"\n",
        "categories: [news, code]\n",
        "image: \"week_2.jpg\"\n",
        "---"
      ],
      "id": "098a1d3c"
    },
    {
      "cell_type": "markdown",
      "metadata": {},
      "source": [
        "This week, I began gathering data and working on the code for my project. I found a dataset containing pictures of 17 celebrities, with 100 different pictures of each, resulting in 1,700 total images of famous people. I started writing code to process this dataset. Specifically, I created a script that would dynamically pull the names of the folders (each corresponding to a person in the dataset) to identify the celebrities. This approach allows for adding more folders and individuals to the dataset without modifying the code, as long as the folder names match the individuals they represent.\n",
        "\n",
        "Here’s the code I wrote to generate the target names dynamically:"
      ],
      "id": "c673518e"
    },
    {
      "cell_type": "code",
      "metadata": {},
      "source": [
        "for dirname, _, filenames in os.walk('/kaggle/input'):\n",
        "    for filename in filenames:\n",
        "        print(os.path.join(dirname, filename))\n",
        "\n",
        "path=\"C:/Users/brown/OneDrive/Documents/Senior project/data/Celebrity Faces Dataset\"\n",
        "target_names = os.listdir(path)\n",
        "target_names"
      ],
      "id": "750b0655",
      "execution_count": null,
      "outputs": []
    },
    {
      "cell_type": "markdown",
      "metadata": {},
      "source": [
        "In the process, I learned about the os library, which interacts directly with the operating system. This library allowed me to retrieve the names of folders and files easily.\n",
        "\n",
        "### Data Augmentation\n",
        "\n",
        "After setting up the dataset, I implemented augmentations to increase image variations, which helps the model generalize better. I made sure that both the training and testing images had the same augmentations by creating a dynamic function. This approach ensured consistency and reduced the likelihood of user error.\n",
        "\n",
        "### Neural Network\n",
        "\n",
        "Next, I started building the neural network. During training, I encountered a significant issue: overfitting. Each image in the dataset was different, so the model struggled to generalize. Additionally, the dataset size was relatively small for training a neural network.\n",
        "\n",
        "To address this, I made the neural network larger, which helped reduce overfitting. This adjustment improved accuracy and reduced loss, while also increasing validation accuracy and lowering validation loss. However, the validation metrics still showed a large gap: the validation accuracy was around 0.4, and the validation loss was approximately 2.7.\n",
        "\n",
        "### Plan for Next Week\n",
        "\n",
        "To further tackle the overfitting issue, I plan to increase the dataset size by duplicating all images three times for each person. This would result in 300 images per person, with each of the 100 original images repeating three times. My goal is to give the model more data to train on, including some similar images, after applying augmentations."
      ],
      "id": "1933c7aa"
    }
  ],
  "metadata": {
    "kernelspec": {
      "name": "python3",
      "language": "python",
      "display_name": "Python 3 (ipykernel)"
    }
  },
  "nbformat": 4,
  "nbformat_minor": 5
}